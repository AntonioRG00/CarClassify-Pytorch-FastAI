{
 "cells": [
  {
   "cell_type": "code",
   "execution_count": null,
   "metadata": {},
   "outputs": [],
   "source": [
    "try:\n",
    "    %conda install fastbook\n",
    "    %conda install fastai\n",
    "except:\n",
    "    %pip install fastbook\n",
    "    %pip install fastai\n",
    "import fastbook\n",
    "fastbook.setup_book()\n",
    "from fastbook import *\n",
    "from fastai.vision.widgets import *"
   ]
  },
  {
   "cell_type": "code",
   "execution_count": 48,
   "metadata": {},
   "outputs": [
    {
     "name": "stdout",
     "output_type": "stream",
     "text": [
      "Clasifico los siguientes objetos: ['audi', 'bmw', 'mercedes', 'porsche']\n"
     ]
    }
   ],
   "source": [
    "learn_inf = load_learner('export.pkl')\n",
    "print(\"Clasifico los siguientes objetos: \" + str(learn_inf.dls.vocab))"
   ]
  },
  {
   "cell_type": "code",
   "execution_count": 50,
   "metadata": {},
   "outputs": [
    {
     "data": {
      "text/html": [
       "\n",
       "<style>\n",
       "    /* Turns off some styling */\n",
       "    progress {\n",
       "        /* gets rid of default border in Firefox and Opera. */\n",
       "        border: none;\n",
       "        /* Needs to be in here for Safari polyfill so background images work as expected. */\n",
       "        background-size: auto;\n",
       "    }\n",
       "    .progress-bar-interrupted, .progress-bar-interrupted::-webkit-progress-bar {\n",
       "        background: #F44336;\n",
       "    }\n",
       "</style>\n"
      ],
      "text/plain": [
       "<IPython.core.display.HTML object>"
      ]
     },
     "metadata": {},
     "output_type": "display_data"
    },
    {
     "data": {
      "text/html": [],
      "text/plain": [
       "<IPython.core.display.HTML object>"
      ]
     },
     "metadata": {},
     "output_type": "display_data"
    },
    {
     "name": "stdout",
     "output_type": "stream",
     "text": [
      "Creo que en la imagen está el siguiente objeto: bmw, con una probabilidad del: 0.79%\n"
     ]
    }
   ],
   "source": [
    "predict = learn_inf.predict('prueba.jpg')\n",
    "print(\"Creo que en la imagen está el siguiente objeto: \" + predict[0] + \", con una probabilidad del: \" + str(round(predict[2][1].item(),2)) + \"%\")"
   ]
  }
 ],
 "metadata": {
  "interpreter": {
   "hash": "f437314b6cdc6792b557923252783d2ac71803472390fd11e0697cbb7dd271d2"
  },
  "kernelspec": {
   "display_name": "Python 3.8.0 64-bit",
   "language": "python",
   "name": "python3"
  },
  "language_info": {
   "codemirror_mode": {
    "name": "ipython",
    "version": 3
   },
   "file_extension": ".py",
   "mimetype": "text/x-python",
   "name": "python",
   "nbconvert_exporter": "python",
   "pygments_lexer": "ipython3",
   "version": "3.8.0"
  },
  "orig_nbformat": 4
 },
 "nbformat": 4,
 "nbformat_minor": 2
}
