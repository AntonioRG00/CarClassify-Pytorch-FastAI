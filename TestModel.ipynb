{
 "cells": [
  {
   "cell_type": "code",
   "execution_count": null,
   "metadata": {},
   "outputs": [],
   "source": [
    "try:\n",
    "    %conda install fastbook==0.0.18 fastai==2.5.3\n",
    "except:\n",
    "    %pip install fastbook==0.0.18 fastai==2.5.3\n",
    "import fastbook\n",
    "fastbook.setup_book()\n",
    "from fastbook import *\n",
    "from fastai.vision.widgets import *"
   ]
  },
  {
   "cell_type": "code",
   "execution_count": null,
   "metadata": {},
   "outputs": [],
   "source": [
    "learn_inf = load_learner('export.pkl')\n",
    "print(\"Clasifico los siguientes objetos: \" + str(learn_inf.dls.vocab))"
   ]
  },
  {
   "cell_type": "code",
   "execution_count": null,
   "metadata": {},
   "outputs": [],
   "source": [
    "predict = learn_inf.predict('prueba.jpg')\n",
    "print(\"Creo que en la imagen está el siguiente objeto: \" + predict[0] + \", con una probabilidad del: \" + str(round(predict[2][1].item(),2)) + \"%\")"
   ]
  }
 ],
 "metadata": {
  "interpreter": {
   "hash": "f437314b6cdc6792b557923252783d2ac71803472390fd11e0697cbb7dd271d2"
  },
  "kernelspec": {
   "display_name": "Python 3.8.0 64-bit",
   "language": "python",
   "name": "python3"
  },
  "language_info": {
   "codemirror_mode": {
    "name": "ipython",
    "version": 3
   },
   "file_extension": ".py",
   "mimetype": "text/x-python",
   "name": "python",
   "nbconvert_exporter": "python",
   "pygments_lexer": "ipython3",
   "version": "3.8.0"
  },
  "orig_nbformat": 4
 },
 "nbformat": 4,
 "nbformat_minor": 2
}
