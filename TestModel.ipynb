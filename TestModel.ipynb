{
 "cells": [
  {
   "cell_type": "code",
   "execution_count": 21,
   "metadata": {},
   "outputs": [
    {
     "name": "stdout",
     "output_type": "stream",
     "text": [
      "Requirement already satisfied: fastbook in c:\\users\\antonio-pc\\appdata\\local\\programs\\python\\python38\\lib\\site-packages (0.0.18)\n",
      "Requirement already satisfied: ipywidgets in c:\\users\\antonio-pc\\appdata\\local\\programs\\python\\python38\\lib\\site-packages (from fastbook) (7.6.5)\n",
      "Requirement already satisfied: requests in c:\\users\\antonio-pc\\appdata\\local\\programs\\python\\python38\\lib\\site-packages (from fastbook) (2.22.0)\n",
      "Requirement already satisfied: fastai>=2.5 in c:\\users\\antonio-pc\\appdata\\local\\programs\\python\\python38\\lib\\site-packages (from fastbook) (2.5.3)\n",
      "Requirement already satisfied: packaging in c:\\users\\antonio-pc\\appdata\\local\\programs\\python\\python38\\lib\\site-packages (from fastbook) (21.3)\n",
      "Requirement already satisfied: nbdev>=0.2.38 in c:\\users\\antonio-pc\\appdata\\local\\programs\\python\\python38\\lib\\site-packages (from fastbook) (1.2.2)\n",
      "Requirement already satisfied: pandas in c:\\users\\antonio-pc\\appdata\\local\\programs\\python\\python38\\lib\\site-packages (from fastbook) (1.4.1)\n",
      "Requirement already satisfied: pip in c:\\users\\antonio-pc\\appdata\\local\\programs\\python\\python38\\lib\\site-packages (from fastbook) (21.3.1)\n",
      "Requirement already satisfied: sentencepiece in c:\\users\\antonio-pc\\appdata\\local\\programs\\python\\python38\\lib\\site-packages (from fastbook) (0.1.96)\n",
      "Requirement already satisfied: pyyaml in c:\\users\\antonio-pc\\appdata\\local\\programs\\python\\python38\\lib\\site-packages (from fastai>=2.5->fastbook) (5.3b1)\n",
      "Requirement already satisfied: matplotlib in c:\\users\\antonio-pc\\appdata\\local\\programs\\python\\python38\\lib\\site-packages (from fastai>=2.5->fastbook) (3.5.1)\n",
      "Requirement already satisfied: fastcore<1.4,>=1.3.22 in c:\\users\\antonio-pc\\appdata\\local\\programs\\python\\python38\\lib\\site-packages (from fastai>=2.5->fastbook) (1.3.29)\n",
      "Requirement already satisfied: torch<1.11,>=1.7.0 in c:\\users\\antonio-pc\\appdata\\local\\programs\\python\\python38\\lib\\site-packages (from fastai>=2.5->fastbook) (1.10.2)\n",
      "Requirement already satisfied: fastprogress>=0.2.4 in c:\\users\\antonio-pc\\appdata\\local\\programs\\python\\python38\\lib\\site-packages (from fastai>=2.5->fastbook) (1.0.2)\n",
      "Requirement already satisfied: scikit-learn in c:\\users\\antonio-pc\\appdata\\local\\programs\\python\\python38\\lib\\site-packages (from fastai>=2.5->fastbook) (1.0.2)\n",
      "Requirement already satisfied: scipy in c:\\users\\antonio-pc\\appdata\\local\\programs\\python\\python38\\lib\\site-packages (from fastai>=2.5->fastbook) (1.7.3)\n",
      "Requirement already satisfied: spacy<4 in c:\\users\\antonio-pc\\appdata\\local\\programs\\python\\python38\\lib\\site-packages (from fastai>=2.5->fastbook) (3.2.3)\n",
      "Requirement already satisfied: torchvision>=0.8.2 in c:\\users\\antonio-pc\\appdata\\local\\programs\\python\\python38\\lib\\site-packages (from fastai>=2.5->fastbook) (0.11.3)\n",
      "Requirement already satisfied: fastdownload<2,>=0.0.5 in c:\\users\\antonio-pc\\appdata\\local\\programs\\python\\python38\\lib\\site-packages (from fastai>=2.5->fastbook) (0.0.5)\n",
      "Requirement already satisfied: pillow>6.0.0 in c:\\users\\antonio-pc\\appdata\\local\\programs\\python\\python38\\lib\\site-packages (from fastai>=2.5->fastbook) (9.0.1)\n",
      "Requirement already satisfied: nbconvert>=6.1 in c:\\users\\antonio-pc\\appdata\\local\\programs\\python\\python38\\lib\\site-packages (from nbdev>=0.2.38->fastbook) (6.4.2)\n",
      "Requirement already satisfied: jupyter-client<8 in c:\\users\\antonio-pc\\appdata\\local\\programs\\python\\python38\\lib\\site-packages (from nbdev>=0.2.38->fastbook) (7.1.1)\n",
      "Requirement already satisfied: ipykernel in c:\\users\\antonio-pc\\appdata\\local\\programs\\python\\python38\\lib\\site-packages (from nbdev>=0.2.38->fastbook) (6.7.0)\n",
      "Requirement already satisfied: nbformat>=4.4.0 in c:\\users\\antonio-pc\\appdata\\local\\programs\\python\\python38\\lib\\site-packages (from nbdev>=0.2.38->fastbook) (5.1.3)\n",
      "Requirement already satisfied: ghapi in c:\\users\\antonio-pc\\appdata\\local\\programs\\python\\python38\\lib\\site-packages (from nbdev>=0.2.38->fastbook) (0.1.19)\n",
      "Requirement already satisfied: jupyter in c:\\users\\antonio-pc\\appdata\\local\\programs\\python\\python38\\lib\\site-packages (from nbdev>=0.2.38->fastbook) (1.0.0)\n",
      "Requirement already satisfied: fastrelease in c:\\users\\antonio-pc\\appdata\\local\\programs\\python\\python38\\lib\\site-packages (from nbdev>=0.2.38->fastbook) (0.1.12)\n",
      "Requirement already satisfied: ipython>=4.0.0 in c:\\users\\antonio-pc\\appdata\\local\\programs\\python\\python38\\lib\\site-packages (from ipywidgets->fastbook) (8.0.0)\n",
      "Requirement already satisfied: ipython-genutils~=0.2.0 in c:\\users\\antonio-pc\\appdata\\local\\programs\\python\\python38\\lib\\site-packages (from ipywidgets->fastbook) (0.2.0)\n",
      "Requirement already satisfied: widgetsnbextension~=3.5.0 in c:\\users\\antonio-pc\\appdata\\local\\programs\\python\\python38\\lib\\site-packages (from ipywidgets->fastbook) (3.5.2)\n",
      "Requirement already satisfied: traitlets>=4.3.1 in c:\\users\\antonio-pc\\appdata\\local\\programs\\python\\python38\\lib\\site-packages (from ipywidgets->fastbook) (5.1.1)\n",
      "Requirement already satisfied: jupyterlab-widgets>=1.0.0 in c:\\users\\antonio-pc\\appdata\\local\\programs\\python\\python38\\lib\\site-packages (from ipywidgets->fastbook) (1.0.2)\n",
      "Requirement already satisfied: pyparsing!=3.0.5,>=2.0.2 in c:\\users\\antonio-pc\\appdata\\local\\programs\\python\\python38\\lib\\site-packages (from packaging->fastbook) (3.0.7)\n",
      "Requirement already satisfied: pytz>=2020.1 in c:\\users\\antonio-pc\\appdata\\local\\programs\\python\\python38\\lib\\site-packages (from pandas->fastbook) (2021.3)\n",
      "Requirement already satisfied: python-dateutil>=2.8.1 in c:\\users\\antonio-pc\\appdata\\local\\programs\\python\\python38\\lib\\site-packages (from pandas->fastbook) (2.8.1)\n",
      "Requirement already satisfied: numpy>=1.18.5 in c:\\users\\antonio-pc\\appdata\\local\\programs\\python\\python38\\lib\\site-packages (from pandas->fastbook) (1.22.1)\n",
      "Requirement already satisfied: idna<2.9,>=2.5 in c:\\users\\antonio-pc\\appdata\\local\\programs\\python\\python38\\lib\\site-packages (from requests->fastbook) (2.8)\n",
      "Requirement already satisfied: urllib3!=1.25.0,!=1.25.1,<1.26,>=1.21.1 in c:\\users\\antonio-pc\\appdata\\local\\programs\\python\\python38\\lib\\site-packages (from requests->fastbook) (1.25.11)\n",
      "Requirement already satisfied: certifi>=2017.4.17 in c:\\users\\antonio-pc\\appdata\\local\\programs\\python\\python38\\lib\\site-packages (from requests->fastbook) (2021.10.8)\n",
      "Requirement already satisfied: chardet<3.1.0,>=3.0.2 in c:\\users\\antonio-pc\\appdata\\local\\programs\\python\\python38\\lib\\site-packages (from requests->fastbook) (3.0.4)\n",
      "Requirement already satisfied: debugpy<2.0,>=1.0.0 in c:\\users\\antonio-pc\\appdata\\local\\programs\\python\\python38\\lib\\site-packages (from ipykernel->nbdev>=0.2.38->fastbook) (1.5.1)\n",
      "Requirement already satisfied: tornado<7.0,>=4.2 in c:\\users\\antonio-pc\\appdata\\local\\programs\\python\\python38\\lib\\site-packages (from ipykernel->nbdev>=0.2.38->fastbook) (6.1)\n",
      "Requirement already satisfied: matplotlib-inline<0.2.0,>=0.1.0 in c:\\users\\antonio-pc\\appdata\\local\\programs\\python\\python38\\lib\\site-packages (from ipykernel->nbdev>=0.2.38->fastbook) (0.1.3)\n",
      "Requirement already satisfied: nest-asyncio in c:\\users\\antonio-pc\\appdata\\local\\programs\\python\\python38\\lib\\site-packages (from ipykernel->nbdev>=0.2.38->fastbook) (1.5.4)\n",
      "Requirement already satisfied: colorama in c:\\users\\antonio-pc\\appdata\\local\\programs\\python\\python38\\lib\\site-packages (from ipython>=4.0.0->ipywidgets->fastbook) (0.4.4)\n",
      "Requirement already satisfied: jedi>=0.16 in c:\\users\\antonio-pc\\appdata\\local\\programs\\python\\python38\\lib\\site-packages (from ipython>=4.0.0->ipywidgets->fastbook) (0.18.1)\n",
      "Requirement already satisfied: pickleshare in c:\\users\\antonio-pc\\appdata\\local\\programs\\python\\python38\\lib\\site-packages (from ipython>=4.0.0->ipywidgets->fastbook) (0.7.5)\n",
      "Requirement already satisfied: prompt-toolkit!=3.0.0,!=3.0.1,<3.1.0,>=2.0.0 in c:\\users\\antonio-pc\\appdata\\local\\programs\\python\\python38\\lib\\site-packages (from ipython>=4.0.0->ipywidgets->fastbook) (3.0.24)\n",
      "Requirement already satisfied: setuptools>=18.5 in c:\\users\\antonio-pc\\appdata\\local\\programs\\python\\python38\\lib\\site-packages (from ipython>=4.0.0->ipywidgets->fastbook) (41.2.0)\n",
      "Requirement already satisfied: black in c:\\users\\antonio-pc\\appdata\\local\\programs\\python\\python38\\lib\\site-packages (from ipython>=4.0.0->ipywidgets->fastbook) (21.12b0)\n",
      "Requirement already satisfied: backcall in c:\\users\\antonio-pc\\appdata\\local\\programs\\python\\python38\\lib\\site-packages (from ipython>=4.0.0->ipywidgets->fastbook) (0.2.0)\n",
      "Requirement already satisfied: stack-data in c:\\users\\antonio-pc\\appdata\\local\\programs\\python\\python38\\lib\\site-packages (from ipython>=4.0.0->ipywidgets->fastbook) (0.1.4)\n",
      "Requirement already satisfied: decorator in c:\\users\\antonio-pc\\appdata\\local\\programs\\python\\python38\\lib\\site-packages (from ipython>=4.0.0->ipywidgets->fastbook) (5.1.1)\n",
      "Requirement already satisfied: pygments in c:\\users\\antonio-pc\\appdata\\local\\programs\\python\\python38\\lib\\site-packages (from ipython>=4.0.0->ipywidgets->fastbook) (2.11.2)\n",
      "Requirement already satisfied: pyzmq>=13 in c:\\users\\antonio-pc\\appdata\\local\\programs\\python\\python38\\lib\\site-packages (from jupyter-client<8->nbdev>=0.2.38->fastbook) (22.3.0)\n",
      "Requirement already satisfied: entrypoints in c:\\users\\antonio-pc\\appdata\\local\\programs\\python\\python38\\lib\\site-packages (from jupyter-client<8->nbdev>=0.2.38->fastbook) (0.3)\n",
      "Requirement already satisfied: jupyter-core>=4.6.0 in c:\\users\\antonio-pc\\appdata\\local\\programs\\python\\python38\\lib\\site-packages (from jupyter-client<8->nbdev>=0.2.38->fastbook) (4.9.1)\n",
      "Requirement already satisfied: testpath in c:\\users\\antonio-pc\\appdata\\local\\programs\\python\\python38\\lib\\site-packages (from nbconvert>=6.1->nbdev>=0.2.38->fastbook) (0.6.0)\n",
      "Requirement already satisfied: pandocfilters>=1.4.1 in c:\\users\\antonio-pc\\appdata\\local\\programs\\python\\python38\\lib\\site-packages (from nbconvert>=6.1->nbdev>=0.2.38->fastbook) (1.5.0)\n",
      "Requirement already satisfied: defusedxml in c:\\users\\antonio-pc\\appdata\\local\\programs\\python\\python38\\lib\\site-packages (from nbconvert>=6.1->nbdev>=0.2.38->fastbook) (0.7.1)\n",
      "Requirement already satisfied: nbclient<0.6.0,>=0.5.0 in c:\\users\\antonio-pc\\appdata\\local\\programs\\python\\python38\\lib\\site-packages (from nbconvert>=6.1->nbdev>=0.2.38->fastbook) (0.5.11)\n",
      "Requirement already satisfied: mistune<2,>=0.8.1 in c:\\users\\antonio-pc\\appdata\\local\\programs\\python\\python38\\lib\\site-packages (from nbconvert>=6.1->nbdev>=0.2.38->fastbook) (0.8.4)\n",
      "Requirement already satisfied: bleach in c:\\users\\antonio-pc\\appdata\\local\\programs\\python\\python38\\lib\\site-packages (from nbconvert>=6.1->nbdev>=0.2.38->fastbook) (4.1.0)\n",
      "Requirement already satisfied: jinja2>=2.4 in c:\\users\\antonio-pc\\appdata\\local\\programs\\python\\python38\\lib\\site-packages (from nbconvert>=6.1->nbdev>=0.2.38->fastbook) (3.0.3)\n",
      "Requirement already satisfied: jupyterlab-pygments in c:\\users\\antonio-pc\\appdata\\local\\programs\\python\\python38\\lib\\site-packages (from nbconvert>=6.1->nbdev>=0.2.38->fastbook) (0.1.2)\n",
      "Requirement already satisfied: jsonschema!=2.5.0,>=2.4 in c:\\users\\antonio-pc\\appdata\\local\\programs\\python\\python38\\lib\\site-packages (from nbformat>=4.4.0->nbdev>=0.2.38->fastbook) (4.4.0)\n",
      "Requirement already satisfied: six>=1.5 in c:\\users\\antonio-pc\\appdata\\local\\programs\\python\\python38\\lib\\site-packages (from python-dateutil>=2.8.1->pandas->fastbook) (1.10.0)\n",
      "Requirement already satisfied: tqdm<5.0.0,>=4.38.0 in c:\\users\\antonio-pc\\appdata\\local\\programs\\python\\python38\\lib\\site-packages (from spacy<4->fastai>=2.5->fastbook) (4.62.3)\n",
      "Requirement already satisfied: cymem<2.1.0,>=2.0.2 in c:\\users\\antonio-pc\\appdata\\local\\programs\\python\\python38\\lib\\site-packages (from spacy<4->fastai>=2.5->fastbook) (2.0.6)\n",
      "Requirement already satisfied: spacy-legacy<3.1.0,>=3.0.8 in c:\\users\\antonio-pc\\appdata\\local\\programs\\python\\python38\\lib\\site-packages (from spacy<4->fastai>=2.5->fastbook) (3.0.9)\n",
      "Requirement already satisfied: typer<0.5.0,>=0.3.0 in c:\\users\\antonio-pc\\appdata\\local\\programs\\python\\python38\\lib\\site-packages (from spacy<4->fastai>=2.5->fastbook) (0.4.0)\n",
      "Requirement already satisfied: srsly<3.0.0,>=2.4.1 in c:\\users\\antonio-pc\\appdata\\local\\programs\\python\\python38\\lib\\site-packages (from spacy<4->fastai>=2.5->fastbook) (2.4.2)\n",
      "Requirement already satisfied: pydantic!=1.8,!=1.8.1,<1.9.0,>=1.7.4 in c:\\users\\antonio-pc\\appdata\\local\\programs\\python\\python38\\lib\\site-packages (from spacy<4->fastai>=2.5->fastbook) (1.8.2)\n",
      "Requirement already satisfied: langcodes<4.0.0,>=3.2.0 in c:\\users\\antonio-pc\\appdata\\local\\programs\\python\\python38\\lib\\site-packages (from spacy<4->fastai>=2.5->fastbook) (3.3.0)\n",
      "Requirement already satisfied: pathy>=0.3.5 in c:\\users\\antonio-pc\\appdata\\local\\programs\\python\\python38\\lib\\site-packages (from spacy<4->fastai>=2.5->fastbook) (0.6.1)\n",
      "Requirement already satisfied: murmurhash<1.1.0,>=0.28.0 in c:\\users\\antonio-pc\\appdata\\local\\programs\\python\\python38\\lib\\site-packages (from spacy<4->fastai>=2.5->fastbook) (1.0.6)\n",
      "Requirement already satisfied: preshed<3.1.0,>=3.0.2 in c:\\users\\antonio-pc\\appdata\\local\\programs\\python\\python38\\lib\\site-packages (from spacy<4->fastai>=2.5->fastbook) (3.0.6)\n",
      "Requirement already satisfied: catalogue<2.1.0,>=2.0.6 in c:\\users\\antonio-pc\\appdata\\local\\programs\\python\\python38\\lib\\site-packages (from spacy<4->fastai>=2.5->fastbook) (2.0.6)\n",
      "Requirement already satisfied: thinc<8.1.0,>=8.0.12 in c:\\users\\antonio-pc\\appdata\\local\\programs\\python\\python38\\lib\\site-packages (from spacy<4->fastai>=2.5->fastbook) (8.0.13)\n",
      "Requirement already satisfied: spacy-loggers<2.0.0,>=1.0.0 in c:\\users\\antonio-pc\\appdata\\local\\programs\\python\\python38\\lib\\site-packages (from spacy<4->fastai>=2.5->fastbook) (1.0.1)\n",
      "Requirement already satisfied: blis<0.8.0,>=0.4.0 in c:\\users\\antonio-pc\\appdata\\local\\programs\\python\\python38\\lib\\site-packages (from spacy<4->fastai>=2.5->fastbook) (0.7.6)\n",
      "Requirement already satisfied: wasabi<1.1.0,>=0.8.1 in c:\\users\\antonio-pc\\appdata\\local\\programs\\python\\python38\\lib\\site-packages (from spacy<4->fastai>=2.5->fastbook) (0.9.0)\n",
      "Requirement already satisfied: typing-extensions in c:\\users\\antonio-pc\\appdata\\local\\programs\\python\\python38\\lib\\site-packages (from torch<1.11,>=1.7.0->fastai>=2.5->fastbook) (4.0.1)\n",
      "Requirement already satisfied: notebook>=4.4.1 in c:\\users\\antonio-pc\\appdata\\local\\programs\\python\\python38\\lib\\site-packages (from widgetsnbextension~=3.5.0->ipywidgets->fastbook) (6.4.8)\n",
      "Requirement already satisfied: jupyter-console in c:\\users\\antonio-pc\\appdata\\local\\programs\\python\\python38\\lib\\site-packages (from jupyter->nbdev>=0.2.38->fastbook) (6.4.0)\n",
      "Requirement already satisfied: qtconsole in c:\\users\\antonio-pc\\appdata\\local\\programs\\python\\python38\\lib\\site-packages (from jupyter->nbdev>=0.2.38->fastbook) (5.2.2)\n",
      "Requirement already satisfied: cycler>=0.10 in c:\\users\\antonio-pc\\appdata\\local\\programs\\python\\python38\\lib\\site-packages (from matplotlib->fastai>=2.5->fastbook) (0.11.0)\n",
      "Requirement already satisfied: kiwisolver>=1.0.1 in c:\\users\\antonio-pc\\appdata\\local\\programs\\python\\python38\\lib\\site-packages (from matplotlib->fastai>=2.5->fastbook) (1.3.2)\n",
      "Requirement already satisfied: fonttools>=4.22.0 in c:\\users\\antonio-pc\\appdata\\local\\programs\\python\\python38\\lib\\site-packages (from matplotlib->fastai>=2.5->fastbook) (4.29.1)\n",
      "Requirement already satisfied: threadpoolctl>=2.0.0 in c:\\users\\antonio-pc\\appdata\\local\\programs\\python\\python38\\lib\\site-packages (from scikit-learn->fastai>=2.5->fastbook) (3.0.0)\n",
      "Requirement already satisfied: joblib>=0.11 in c:\\users\\antonio-pc\\appdata\\local\\programs\\python\\python38\\lib\\site-packages (from scikit-learn->fastai>=2.5->fastbook) (1.1.0)\n",
      "Requirement already satisfied: parso<0.9.0,>=0.8.0 in c:\\users\\antonio-pc\\appdata\\local\\programs\\python\\python38\\lib\\site-packages (from jedi>=0.16->ipython>=4.0.0->ipywidgets->fastbook) (0.8.3)\n",
      "Requirement already satisfied: MarkupSafe>=2.0 in c:\\users\\antonio-pc\\appdata\\local\\programs\\python\\python38\\lib\\site-packages (from jinja2>=2.4->nbconvert>=6.1->nbdev>=0.2.38->fastbook) (2.0.1)\n",
      "Requirement already satisfied: importlib-resources>=1.4.0 in c:\\users\\antonio-pc\\appdata\\local\\programs\\python\\python38\\lib\\site-packages (from jsonschema!=2.5.0,>=2.4->nbformat>=4.4.0->nbdev>=0.2.38->fastbook) (5.4.0)\n",
      "Requirement already satisfied: pyrsistent!=0.17.0,!=0.17.1,!=0.17.2,>=0.14.0 in c:\\users\\antonio-pc\\appdata\\local\\programs\\python\\python38\\lib\\site-packages (from jsonschema!=2.5.0,>=2.4->nbformat>=4.4.0->nbdev>=0.2.38->fastbook) (0.18.1)\n",
      "Requirement already satisfied: attrs>=17.4.0 in c:\\users\\antonio-pc\\appdata\\local\\programs\\python\\python38\\lib\\site-packages (from jsonschema!=2.5.0,>=2.4->nbformat>=4.4.0->nbdev>=0.2.38->fastbook) (21.4.0)\n",
      "Requirement already satisfied: pywin32>=1.0 in c:\\users\\antonio-pc\\appdata\\local\\programs\\python\\python38\\lib\\site-packages (from jupyter-core>=4.6.0->jupyter-client<8->nbdev>=0.2.38->fastbook) (303)\n",
      "Requirement already satisfied: Send2Trash>=1.8.0 in c:\\users\\antonio-pc\\appdata\\local\\programs\\python\\python38\\lib\\site-packages (from notebook>=4.4.1->widgetsnbextension~=3.5.0->ipywidgets->fastbook) (1.8.0)\n",
      "Requirement already satisfied: terminado>=0.8.3 in c:\\users\\antonio-pc\\appdata\\local\\programs\\python\\python38\\lib\\site-packages (from notebook>=4.4.1->widgetsnbextension~=3.5.0->ipywidgets->fastbook) (0.13.2)\n",
      "Requirement already satisfied: prometheus-client in c:\\users\\antonio-pc\\appdata\\local\\programs\\python\\python38\\lib\\site-packages (from notebook>=4.4.1->widgetsnbextension~=3.5.0->ipywidgets->fastbook) (0.13.1)\n",
      "Requirement already satisfied: argon2-cffi in c:\\users\\antonio-pc\\appdata\\local\\programs\\python\\python38\\lib\\site-packages (from notebook>=4.4.1->widgetsnbextension~=3.5.0->ipywidgets->fastbook) (21.3.0)\n",
      "Requirement already satisfied: smart-open<6.0.0,>=5.0.0 in c:\\users\\antonio-pc\\appdata\\local\\programs\\python\\python38\\lib\\site-packages (from pathy>=0.3.5->spacy<4->fastai>=2.5->fastbook) (5.2.1)\n",
      "Requirement already satisfied: wcwidth in c:\\users\\antonio-pc\\appdata\\local\\programs\\python\\python38\\lib\\site-packages (from prompt-toolkit!=3.0.0,!=3.0.1,<3.1.0,>=2.0.0->ipython>=4.0.0->ipywidgets->fastbook) (0.2.5)\n",
      "Requirement already satisfied: click<9.0.0,>=7.1.1 in c:\\users\\antonio-pc\\appdata\\local\\programs\\python\\python38\\lib\\site-packages (from typer<0.5.0,>=0.3.0->spacy<4->fastai>=2.5->fastbook) (8.0.3)\n",
      "Requirement already satisfied: pathspec<1,>=0.9.0 in c:\\users\\antonio-pc\\appdata\\local\\programs\\python\\python38\\lib\\site-packages (from black->ipython>=4.0.0->ipywidgets->fastbook) (0.9.0)\n",
      "Requirement already satisfied: platformdirs>=2 in c:\\users\\antonio-pc\\appdata\\local\\programs\\python\\python38\\lib\\site-packages (from black->ipython>=4.0.0->ipywidgets->fastbook) (2.4.1)\n",
      "Requirement already satisfied: tomli<2.0.0,>=0.2.6 in c:\\users\\antonio-pc\\appdata\\local\\programs\\python\\python38\\lib\\site-packages (from black->ipython>=4.0.0->ipywidgets->fastbook) (1.2.3)\n",
      "Requirement already satisfied: mypy-extensions>=0.4.3 in c:\\users\\antonio-pc\\appdata\\local\\programs\\python\\python38\\lib\\site-packages (from black->ipython>=4.0.0->ipywidgets->fastbook) (0.4.3)\n",
      "Requirement already satisfied: webencodings in c:\\users\\antonio-pc\\appdata\\local\\programs\\python\\python38\\lib\\site-packages (from bleach->nbconvert>=6.1->nbdev>=0.2.38->fastbook) (0.5.1)\n",
      "Requirement already satisfied: qtpy in c:\\users\\antonio-pc\\appdata\\local\\programs\\python\\python38\\lib\\site-packages (from qtconsole->jupyter->nbdev>=0.2.38->fastbook) (2.0.1)\n",
      "Requirement already satisfied: asttokens in c:\\users\\antonio-pc\\appdata\\local\\programs\\python\\python38\\lib\\site-packages (from stack-data->ipython>=4.0.0->ipywidgets->fastbook) (2.0.5)\n",
      "Requirement already satisfied: executing in c:\\users\\antonio-pc\\appdata\\local\\programs\\python\\python38\\lib\\site-packages (from stack-data->ipython>=4.0.0->ipywidgets->fastbook) (0.8.2)\n",
      "Requirement already satisfied: pure-eval in c:\\users\\antonio-pc\\appdata\\local\\programs\\python\\python38\\lib\\site-packages (from stack-data->ipython>=4.0.0->ipywidgets->fastbook) (0.2.1)\n",
      "Requirement already satisfied: zipp>=3.1.0 in c:\\users\\antonio-pc\\appdata\\local\\programs\\python\\python38\\lib\\site-packages (from importlib-resources>=1.4.0->jsonschema!=2.5.0,>=2.4->nbformat>=4.4.0->nbdev>=0.2.38->fastbook) (3.7.0)\n",
      "Requirement already satisfied: pywinpty>=1.1.0 in c:\\users\\antonio-pc\\appdata\\local\\programs\\python\\python38\\lib\\site-packages (from terminado>=0.8.3->notebook>=4.4.1->widgetsnbextension~=3.5.0->ipywidgets->fastbook) (2.0.5)\n",
      "Requirement already satisfied: argon2-cffi-bindings in c:\\users\\antonio-pc\\appdata\\local\\programs\\python\\python38\\lib\\site-packages (from argon2-cffi->notebook>=4.4.1->widgetsnbextension~=3.5.0->ipywidgets->fastbook) (21.2.0)\n",
      "Requirement already satisfied: cffi>=1.0.1 in c:\\users\\antonio-pc\\appdata\\local\\programs\\python\\python38\\lib\\site-packages (from argon2-cffi-bindings->argon2-cffi->notebook>=4.4.1->widgetsnbextension~=3.5.0->ipywidgets->fastbook) (1.15.0)\n",
      "Requirement already satisfied: pycparser in c:\\users\\antonio-pc\\appdata\\local\\programs\\python\\python38\\lib\\site-packages (from cffi>=1.0.1->argon2-cffi-bindings->argon2-cffi->notebook>=4.4.1->widgetsnbextension~=3.5.0->ipywidgets->fastbook) (2.21)\n",
      "Note: you may need to restart the kernel to use updated packages.\n"
     ]
    },
    {
     "name": "stderr",
     "output_type": "stream",
     "text": [
      "WARNING: You are using pip version 21.3.1; however, version 22.0.3 is available.\n",
      "You should consider upgrading via the 'C:\\Users\\Antonio-PC\\AppData\\Local\\Programs\\Python\\Python38\\python.exe -m pip install --upgrade pip' command.\n"
     ]
    },
    {
     "name": "stdout",
     "output_type": "stream",
     "text": [
      "Requirement already satisfied: fastai in c:\\users\\antonio-pc\\appdata\\local\\programs\\python\\python38\\lib\\site-packages (2.5.3)\n",
      "Requirement already satisfied: torchvision>=0.8.2 in c:\\users\\antonio-pc\\appdata\\local\\programs\\python\\python38\\lib\\site-packages (from fastai) (0.11.3)\n",
      "Requirement already satisfied: fastdownload<2,>=0.0.5 in c:\\users\\antonio-pc\\appdata\\local\\programs\\python\\python38\\lib\\site-packages (from fastai) (0.0.5)\n",
      "Requirement already satisfied: pip in c:\\users\\antonio-pc\\appdata\\local\\programs\\python\\python38\\lib\\site-packages (from fastai) (21.3.1)\n",
      "Requirement already satisfied: requests in c:\\users\\antonio-pc\\appdata\\local\\programs\\python\\python38\\lib\\site-packages (from fastai) (2.22.0)\n",
      "Requirement already satisfied: packaging in c:\\users\\antonio-pc\\appdata\\local\\programs\\python\\python38\\lib\\site-packages (from fastai) (21.3)\n",
      "Requirement already satisfied: fastprogress>=0.2.4 in c:\\users\\antonio-pc\\appdata\\local\\programs\\python\\python38\\lib\\site-packages (from fastai) (1.0.2)\n",
      "Requirement already satisfied: scikit-learn in c:\\users\\antonio-pc\\appdata\\local\\programs\\python\\python38\\lib\\site-packages (from fastai) (1.0.2)\n",
      "Requirement already satisfied: scipy in c:\\users\\antonio-pc\\appdata\\local\\programs\\python\\python38\\lib\\site-packages (from fastai) (1.7.3)\n",
      "Requirement already satisfied: spacy<4 in c:\\users\\antonio-pc\\appdata\\local\\programs\\python\\python38\\lib\\site-packages (from fastai) (3.2.3)\n",
      "Requirement already satisfied: torch<1.11,>=1.7.0 in c:\\users\\antonio-pc\\appdata\\local\\programs\\python\\python38\\lib\\site-packages (from fastai) (1.10.2)\n",
      "Requirement already satisfied: pandas in c:\\users\\antonio-pc\\appdata\\local\\programs\\python\\python38\\lib\\site-packages (from fastai) (1.4.1)\n",
      "Requirement already satisfied: fastcore<1.4,>=1.3.22 in c:\\users\\antonio-pc\\appdata\\local\\programs\\python\\python38\\lib\\site-packages (from fastai) (1.3.29)\n",
      "Requirement already satisfied: matplotlib in c:\\users\\antonio-pc\\appdata\\local\\programs\\python\\python38\\lib\\site-packages (from fastai) (3.5.1)\n",
      "Requirement already satisfied: pillow>6.0.0 in c:\\users\\antonio-pc\\appdata\\local\\programs\\python\\python38\\lib\\site-packages (from fastai) (9.0.1)\n",
      "Requirement already satisfied: pyyaml in c:\\users\\antonio-pc\\appdata\\local\\programs\\python\\python38\\lib\\site-packages (from fastai) (5.3b1)\n",
      "Requirement already satisfied: pathy>=0.3.5 in c:\\users\\antonio-pc\\appdata\\local\\programs\\python\\python38\\lib\\site-packages (from spacy<4->fastai) (0.6.1)\n",
      "Requirement already satisfied: catalogue<2.1.0,>=2.0.6 in c:\\users\\antonio-pc\\appdata\\local\\programs\\python\\python38\\lib\\site-packages (from spacy<4->fastai) (2.0.6)\n",
      "Requirement already satisfied: pydantic!=1.8,!=1.8.1,<1.9.0,>=1.7.4 in c:\\users\\antonio-pc\\appdata\\local\\programs\\python\\python38\\lib\\site-packages (from spacy<4->fastai) (1.8.2)\n",
      "Requirement already satisfied: wasabi<1.1.0,>=0.8.1 in c:\\users\\antonio-pc\\appdata\\local\\programs\\python\\python38\\lib\\site-packages (from spacy<4->fastai) (0.9.0)\n",
      "Requirement already satisfied: spacy-legacy<3.1.0,>=3.0.8 in c:\\users\\antonio-pc\\appdata\\local\\programs\\python\\python38\\lib\\site-packages (from spacy<4->fastai) (3.0.9)\n",
      "Requirement already satisfied: setuptools in c:\\users\\antonio-pc\\appdata\\local\\programs\\python\\python38\\lib\\site-packages (from spacy<4->fastai) (41.2.0)\n",
      "Requirement already satisfied: cymem<2.1.0,>=2.0.2 in c:\\users\\antonio-pc\\appdata\\local\\programs\\python\\python38\\lib\\site-packages (from spacy<4->fastai) (2.0.6)\n",
      "Requirement already satisfied: murmurhash<1.1.0,>=0.28.0 in c:\\users\\antonio-pc\\appdata\\local\\programs\\python\\python38\\lib\\site-packages (from spacy<4->fastai) (1.0.6)\n",
      "Requirement already satisfied: spacy-loggers<2.0.0,>=1.0.0 in c:\\users\\antonio-pc\\appdata\\local\\programs\\python\\python38\\lib\\site-packages (from spacy<4->fastai) (1.0.1)\n",
      "Requirement already satisfied: preshed<3.1.0,>=3.0.2 in c:\\users\\antonio-pc\\appdata\\local\\programs\\python\\python38\\lib\\site-packages (from spacy<4->fastai) (3.0.6)\n",
      "Requirement already satisfied: numpy>=1.15.0 in c:\\users\\antonio-pc\\appdata\\local\\programs\\python\\python38\\lib\\site-packages (from spacy<4->fastai) (1.22.1)\n",
      "Requirement already satisfied: tqdm<5.0.0,>=4.38.0 in c:\\users\\antonio-pc\\appdata\\local\\programs\\python\\python38\\lib\\site-packages (from spacy<4->fastai) (4.62.3)\n",
      "Requirement already satisfied: srsly<3.0.0,>=2.4.1 in c:\\users\\antonio-pc\\appdata\\local\\programs\\python\\python38\\lib\\site-packages (from spacy<4->fastai) (2.4.2)\n",
      "Requirement already satisfied: langcodes<4.0.0,>=3.2.0 in c:\\users\\antonio-pc\\appdata\\local\\programs\\python\\python38\\lib\\site-packages (from spacy<4->fastai) (3.3.0)\n",
      "Requirement already satisfied: typer<0.5.0,>=0.3.0 in c:\\users\\antonio-pc\\appdata\\local\\programs\\python\\python38\\lib\\site-packages (from spacy<4->fastai) (0.4.0)\n",
      "Requirement already satisfied: thinc<8.1.0,>=8.0.12 in c:\\users\\antonio-pc\\appdata\\local\\programs\\python\\python38\\lib\\site-packages (from spacy<4->fastai) (8.0.13)\n",
      "Requirement already satisfied: jinja2 in c:\\users\\antonio-pc\\appdata\\local\\programs\\python\\python38\\lib\\site-packages (from spacy<4->fastai) (3.0.3)\n",
      "Requirement already satisfied: blis<0.8.0,>=0.4.0 in c:\\users\\antonio-pc\\appdata\\local\\programs\\python\\python38\\lib\\site-packages (from spacy<4->fastai) (0.7.6)\n",
      "Requirement already satisfied: pyparsing!=3.0.5,>=2.0.2 in c:\\users\\antonio-pc\\appdata\\local\\programs\\python\\python38\\lib\\site-packages (from packaging->fastai) (3.0.7)\n",
      "Requirement already satisfied: urllib3!=1.25.0,!=1.25.1,<1.26,>=1.21.1 in c:\\users\\antonio-pc\\appdata\\local\\programs\\python\\python38\\lib\\site-packages (from requests->fastai) (1.25.11)\n",
      "Requirement already satisfied: certifi>=2017.4.17 in c:\\users\\antonio-pc\\appdata\\local\\programs\\python\\python38\\lib\\site-packages (from requests->fastai) (2021.10.8)\n",
      "Requirement already satisfied: chardet<3.1.0,>=3.0.2 in c:\\users\\antonio-pc\\appdata\\local\\programs\\python\\python38\\lib\\site-packages (from requests->fastai) (3.0.4)\n",
      "Requirement already satisfied: idna<2.9,>=2.5 in c:\\users\\antonio-pc\\appdata\\local\\programs\\python\\python38\\lib\\site-packages (from requests->fastai) (2.8)\n",
      "Requirement already satisfied: typing-extensions in c:\\users\\antonio-pc\\appdata\\local\\programs\\python\\python38\\lib\\site-packages (from torch<1.11,>=1.7.0->fastai) (4.0.1)\n",
      "Requirement already satisfied: kiwisolver>=1.0.1 in c:\\users\\antonio-pc\\appdata\\local\\programs\\python\\python38\\lib\\site-packages (from matplotlib->fastai) (1.3.2)\n",
      "Requirement already satisfied: fonttools>=4.22.0 in c:\\users\\antonio-pc\\appdata\\local\\programs\\python\\python38\\lib\\site-packages (from matplotlib->fastai) (4.29.1)\n",
      "Requirement already satisfied: python-dateutil>=2.7 in c:\\users\\antonio-pc\\appdata\\local\\programs\\python\\python38\\lib\\site-packages (from matplotlib->fastai) (2.8.1)\n",
      "Requirement already satisfied: cycler>=0.10 in c:\\users\\antonio-pc\\appdata\\local\\programs\\python\\python38\\lib\\site-packages (from matplotlib->fastai) (0.11.0)\n",
      "Requirement already satisfied: pytz>=2020.1 in c:\\users\\antonio-pc\\appdata\\local\\programs\\python\\python38\\lib\\site-packages (from pandas->fastai) (2021.3)\n",
      "Requirement already satisfied: joblib>=0.11 in c:\\users\\antonio-pc\\appdata\\local\\programs\\python\\python38\\lib\\site-packages (from scikit-learn->fastai) (1.1.0)\n",
      "Requirement already satisfied: threadpoolctl>=2.0.0 in c:\\users\\antonio-pc\\appdata\\local\\programs\\python\\python38\\lib\\site-packages (from scikit-learn->fastai) (3.0.0)\n",
      "Requirement already satisfied: smart-open<6.0.0,>=5.0.0 in c:\\users\\antonio-pc\\appdata\\local\\programs\\python\\python38\\lib\\site-packages (from pathy>=0.3.5->spacy<4->fastai) (5.2.1)\n",
      "Requirement already satisfied: six>=1.5 in c:\\users\\antonio-pc\\appdata\\local\\programs\\python\\python38\\lib\\site-packages (from python-dateutil>=2.7->matplotlib->fastai) (1.10.0)\n",
      "Requirement already satisfied: colorama in c:\\users\\antonio-pc\\appdata\\local\\programs\\python\\python38\\lib\\site-packages (from tqdm<5.0.0,>=4.38.0->spacy<4->fastai) (0.4.4)\n",
      "Requirement already satisfied: click<9.0.0,>=7.1.1 in c:\\users\\antonio-pc\\appdata\\local\\programs\\python\\python38\\lib\\site-packages (from typer<0.5.0,>=0.3.0->spacy<4->fastai) (8.0.3)\n",
      "Requirement already satisfied: MarkupSafe>=2.0 in c:\\users\\antonio-pc\\appdata\\local\\programs\\python\\python38\\lib\\site-packages (from jinja2->spacy<4->fastai) (2.0.1)\n",
      "Note: you may need to restart the kernel to use updated packages.\n"
     ]
    },
    {
     "name": "stderr",
     "output_type": "stream",
     "text": [
      "WARNING: You are using pip version 21.3.1; however, version 22.0.3 is available.\n",
      "You should consider upgrading via the 'C:\\Users\\Antonio-PC\\AppData\\Local\\Programs\\Python\\Python38\\python.exe -m pip install --upgrade pip' command.\n"
     ]
    },
    {
     "data": {
      "text/plain": [
       "''"
      ]
     },
     "execution_count": 21,
     "metadata": {},
     "output_type": "execute_result"
    }
   ],
   "source": [
    "try:\n",
    "    %conda install fastbook\n",
    "    %conda install fastai\n",
    "except:\n",
    "    %pip install fastbook\n",
    "    %pip install fastai\n",
    "import fastbook\n",
    "fastbook.setup_book()\n",
    "from fastbook import *\n",
    "from fastai.vision.widgets import *"
   ]
  },
  {
   "cell_type": "code",
   "execution_count": 3,
   "metadata": {},
   "outputs": [
    {
     "data": {
      "text/html": [
       "\n",
       "<style>\n",
       "    /* Turns off some styling */\n",
       "    progress {\n",
       "        /* gets rid of default border in Firefox and Opera. */\n",
       "        border: none;\n",
       "        /* Needs to be in here for Safari polyfill so background images work as expected. */\n",
       "        background-size: auto;\n",
       "    }\n",
       "    .progress-bar-interrupted, .progress-bar-interrupted::-webkit-progress-bar {\n",
       "        background: #F44336;\n",
       "    }\n",
       "</style>\n"
      ],
      "text/plain": [
       "<IPython.core.display.HTML object>"
      ]
     },
     "metadata": {},
     "output_type": "display_data"
    },
    {
     "data": {
      "text/html": [],
      "text/plain": [
       "<IPython.core.display.HTML object>"
      ]
     },
     "metadata": {},
     "output_type": "display_data"
    },
    {
     "data": {
      "text/plain": [
       "('bmw', TensorBase(1), TensorBase([0.1442, 0.7859, 0.0636, 0.0064]))"
      ]
     },
     "execution_count": 3,
     "metadata": {},
     "output_type": "execute_result"
    }
   ],
   "source": [
    "learn_inf = load_learner('export.pkl')\n",
    "learn_inf.predict('foto.jpg')"
   ]
  },
  {
   "cell_type": "code",
   "execution_count": 4,
   "metadata": {},
   "outputs": [
    {
     "data": {
      "text/plain": [
       "['audi', 'bmw', 'mercedes', 'porsche']"
      ]
     },
     "execution_count": 4,
     "metadata": {},
     "output_type": "execute_result"
    }
   ],
   "source": [
    "learn_inf.dls.vocab"
   ]
  },
  {
   "cell_type": "code",
   "execution_count": 5,
   "metadata": {},
   "outputs": [
    {
     "data": {
      "application/vnd.jupyter.widget-view+json": {
       "model_id": "3961a341142c4f29a27ef586c27b229b",
       "version_major": 2,
       "version_minor": 0
      },
      "text/plain": [
       "FileUpload(value={}, description='Upload')"
      ]
     },
     "metadata": {},
     "output_type": "display_data"
    }
   ],
   "source": [
    "#hide_output\n",
    "btn_upload = widgets.FileUpload()\n",
    "btn_upload"
   ]
  },
  {
   "cell_type": "code",
   "execution_count": 8,
   "metadata": {},
   "outputs": [],
   "source": [
    "#hide\n",
    "# For the book, we can't actually click an upload button, so we fake it\n",
    "btn_upload = SimpleNamespace(data = ['foto.jpg'])"
   ]
  },
  {
   "cell_type": "code",
   "execution_count": 9,
   "metadata": {},
   "outputs": [],
   "source": [
    "img = PILImage.create(btn_upload.data[-1])"
   ]
  },
  {
   "cell_type": "code",
   "execution_count": 10,
   "metadata": {},
   "outputs": [
    {
     "data": {
      "application/vnd.jupyter.widget-view+json": {
       "model_id": "2ca84fca1c664c7c8b4f775169a9d7de",
       "version_major": 2,
       "version_minor": 0
      },
      "text/plain": [
       "Output()"
      ]
     },
     "metadata": {},
     "output_type": "display_data"
    }
   ],
   "source": [
    "#hide_output\n",
    "out_pl = widgets.Output()\n",
    "out_pl.clear_output()\n",
    "with out_pl: display(img.to_thumb(128,128))\n",
    "out_pl"
   ]
  },
  {
   "cell_type": "code",
   "execution_count": 11,
   "metadata": {},
   "outputs": [
    {
     "data": {
      "text/html": [
       "\n",
       "<style>\n",
       "    /* Turns off some styling */\n",
       "    progress {\n",
       "        /* gets rid of default border in Firefox and Opera. */\n",
       "        border: none;\n",
       "        /* Needs to be in here for Safari polyfill so background images work as expected. */\n",
       "        background-size: auto;\n",
       "    }\n",
       "    .progress-bar-interrupted, .progress-bar-interrupted::-webkit-progress-bar {\n",
       "        background: #F44336;\n",
       "    }\n",
       "</style>\n"
      ],
      "text/plain": [
       "<IPython.core.display.HTML object>"
      ]
     },
     "metadata": {},
     "output_type": "display_data"
    },
    {
     "data": {
      "text/html": [],
      "text/plain": [
       "<IPython.core.display.HTML object>"
      ]
     },
     "metadata": {},
     "output_type": "display_data"
    }
   ],
   "source": [
    "pred,pred_idx,probs = learn_inf.predict(img)"
   ]
  },
  {
   "cell_type": "code",
   "execution_count": 12,
   "metadata": {},
   "outputs": [
    {
     "data": {
      "application/vnd.jupyter.widget-view+json": {
       "model_id": "7ea01dddc71a4bf2aa26fe99817d655e",
       "version_major": 2,
       "version_minor": 0
      },
      "text/plain": [
       "Label(value='Prediction: bmw; Probability: 0.7859')"
      ]
     },
     "metadata": {},
     "output_type": "display_data"
    }
   ],
   "source": [
    "#hide_output\n",
    "lbl_pred = widgets.Label()\n",
    "lbl_pred.value = f'Prediction: {pred}; Probability: {probs[pred_idx]:.04f}'\n",
    "lbl_pred"
   ]
  },
  {
   "cell_type": "code",
   "execution_count": 13,
   "metadata": {},
   "outputs": [
    {
     "data": {
      "application/vnd.jupyter.widget-view+json": {
       "model_id": "ebe33842af7743cbb4857de65e0efa67",
       "version_major": 2,
       "version_minor": 0
      },
      "text/plain": [
       "Button(description='Classify', style=ButtonStyle())"
      ]
     },
     "metadata": {},
     "output_type": "display_data"
    }
   ],
   "source": [
    "#hide_output\n",
    "btn_run = widgets.Button(description='Classify')\n",
    "btn_run"
   ]
  },
  {
   "cell_type": "code",
   "execution_count": 14,
   "metadata": {},
   "outputs": [],
   "source": [
    "def on_click_classify(change):\n",
    "    img = PILImage.create(btn_upload.data[-1])\n",
    "    out_pl.clear_output()\n",
    "    with out_pl: display(img.to_thumb(128,128))\n",
    "    pred,pred_idx,probs = learn_inf.predict(img)\n",
    "    lbl_pred.value = f'Prediction: {pred}; Probability: {probs[pred_idx]:.04f}'\n",
    "\n",
    "btn_run.on_click(on_click_classify)"
   ]
  },
  {
   "cell_type": "code",
   "execution_count": 15,
   "metadata": {},
   "outputs": [],
   "source": [
    "#hide\n",
    "#Putting back btn_upload to a widget for next cell\n",
    "btn_upload = widgets.FileUpload()"
   ]
  },
  {
   "cell_type": "code",
   "execution_count": 16,
   "metadata": {},
   "outputs": [
    {
     "data": {
      "application/vnd.jupyter.widget-view+json": {
       "model_id": "bf84bb050c804e0aaa08b7e6196185ad",
       "version_major": 2,
       "version_minor": 0
      },
      "text/plain": [
       "VBox(children=(Label(value='Select your bear!'), FileUpload(value={}, description='Upload'), Button(descriptio…"
      ]
     },
     "metadata": {},
     "output_type": "display_data"
    }
   ],
   "source": [
    "#hide_output\n",
    "VBox([widgets.Label('Select your car!'), \n",
    "      btn_upload, btn_run, out_pl, lbl_pred])"
   ]
  },
  {
   "cell_type": "code",
   "execution_count": null,
   "metadata": {},
   "outputs": [],
   "source": [
    "#hide\n",
    "# !pip install voila\n",
    "# !jupyter serverextension enable --sys-prefix voila "
   ]
  }
 ],
 "metadata": {
  "interpreter": {
   "hash": "f437314b6cdc6792b557923252783d2ac71803472390fd11e0697cbb7dd271d2"
  },
  "kernelspec": {
   "display_name": "Python 3.8.0 64-bit",
   "language": "python",
   "name": "python3"
  },
  "language_info": {
   "codemirror_mode": {
    "name": "ipython",
    "version": 3
   },
   "file_extension": ".py",
   "mimetype": "text/x-python",
   "name": "python",
   "nbconvert_exporter": "python",
   "pygments_lexer": "ipython3",
   "version": "3.8.0"
  },
  "orig_nbformat": 4
 },
 "nbformat": 4,
 "nbformat_minor": 2
}
